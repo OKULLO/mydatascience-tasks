{
 "cells": [
  {
   "cell_type": "markdown",
   "metadata": {},
   "source": [
    "# Problem 1 \n",
    "In many areas of data science and machine learning we need to produce random samples in different ways. This can be done to compute difficult integrals or validate algorithms. In this problem you will be asked to basically \n",
    "\n",
    "1. Implement a pseudo number generator that produces random numbers from the uniform distribution $[0,1]$.\n",
    "2. Use that to construct samples from \n",
    "$$\n",
    "    F[x] = \n",
    "    \\begin{cases}\n",
    "        0, & x \\leq 0 \\\\\n",
    "        \\sin(x), & 0 < x < \\pi/2 \\\\\n",
    "        1, & x \\geq \\pi/2\n",
    "    \\end{cases}\n",
    "$$\n",
    "3. Consider a random variable $X \\sim F$ sampled from distribution $F$, and use your sampler to estimate $E[X]$ using $1000$ samples.\n",
    "4. Use the bootstrap method to produce a bootstrap confidence interval for $E[X]$ of $95\\%$ from your $1000$ samples above. How do you produce the bootstrap samples from your uniform sampler in step 1?"
   ]
  },
  {
   "cell_type": "code",
   "execution_count": 4,
   "metadata": {},
   "outputs": [],
   "source": [
    "\n",
    "import numpy as np\n",
    "import math\n",
    "from numpy.random import seed\n",
    "from numpy import random\n",
    "from numpy.random import normal\n",
    "from numpy import mean\n",
    "from numpy import median\n",
    "from numpy import percentile\n",
    "from scipy.stats import norm \n",
    "from pylab import cumsum\n",
    "# seed the random number generator\n",
    "seed(1)\n",
    "\n",
    "\n",
    "def uniformCDF(x, theta1, theta2):\n",
    "    '''Uniform(theta1, theta2) CDF or DF function F(x; theta1, theta2).\n",
    "    \n",
    "    x is the value to evaluate the cdf at.\n",
    "    theta1, theta2 are the distribution parameters.'''\n",
    "    \n",
    "    retvalue = 0 # default return value\n",
    "    if (x > theta2):\n",
    "        retvalue = 1\n",
    "    elif (x > theta1): # else-if\n",
    "        retvalue =  (x - theta1) / (theta2-theta1)   \n",
    "    # if (x < theta1), retvalue will be 0\n",
    "    return retvalue\n",
    "\n",
    "def sample_distribution(theta1, theta2):\n",
    "    #uniform random sample\n",
    "    us = [random.random()]\n",
    "    \n",
    "    return [uniformCDF(np.sin(u), theta1, theta2) for u in us]\n",
    "\n"
   ]
  },
  {
   "cell_type": "code",
   "execution_count": 66,
   "metadata": {},
   "outputs": [],
   "source": [
    "x = [sample_distribution(0,np.pi/2) for i in range(1000)]\n"
   ]
  },
  {
   "cell_type": "code",
   "execution_count": null,
   "metadata": {},
   "outputs": [],
   "source": [
    "def makeEDFHidden(myDataList, offset=0):\n",
    "    '''Make an empirical distribution function from a data list.\n",
    "    \n",
    "    Param myDataList, list of data to make ecdf from.\n",
    "    Param offset is an offset to adjust the edf by, used for doing confidence bands.\n",
    "    Return list of tuples comprising (data value, cumulative relative frequency) ordered by data value.'''\n",
    "    \n",
    "    sortedUniqueValues = sorted(list(set(myDataList)))\n",
    "    freqs = [myDataList.count(i) for i in sortedUniqueValues]\n",
    "    from pylab import cumsum\n",
    "    cumFreqs = list(cumsum(freqs)) #\n",
    "    cumRelFreqs = [ZZ(i)/len(myDataList) for i in cumFreqs] # get cumulative relative frequencies as rationals\n",
    "    if offset > 0: # an upper band\n",
    "        cumRelFreqs = [min(i ,1) for i in cumRelFreqs] # use a list comprehension\n",
    "    if offset < 0: # a lower band\n",
    "        cumRelFreqs = [max(i, 0) for i in cumFreqs] # use a list comprehension\n",
    "    print(list(zip(sortedUniqueValues, cumRelFreqs)))\n",
    "\n",
    "\n",
    "def ecdfPlot(samples):\n",
    "    '''Returns an empirical probability mass function plot from samples data.'''\n",
    "    ecdf_pairs = makeEDFHidden(samples)\n",
    "    ecdf = point(ecdf_pairs, rgbcolor = \"red\", faceted = false, pointsize=\"20\")\n",
    "    for k in range(len(ecdf_pairs)):\n",
    "        x, kheight = ecdf_pairs[k]     # unpack tuple\n",
    "        previous_x = 0\n",
    "        previous_height = 0\n",
    "        if k > 0:\n",
    "            previous_x, previous_height = ecdf_pairs[k-1] # unpack previous tuple\n",
    "        ecdf += line([(previous_x, previous_height),(x, previous_height)], rgbcolor=\"grey\")\n",
    "        ecdf += points((x, previous_height),rgbcolor = \"white\", faceted = true, pointsize=\"20\")\n",
    "        ecdf += line([(x, previous_height),(x, kheight)], rgbcolor=\"grey\", linestyle=\":\")\n",
    "    # padding\n",
    "    ecdf += line([(ecdf_pairs[0][0]-0.2, 0),(ecdf_pairs[0][0], 0)], rgbcolor=\"grey\")\n",
    "    max_index = len(ecdf_pairs)-1\n",
    "    ecdf += line([(ecdf_pairs[max_index][0], ecdf_pairs[max_index][1]),(ecdf_pairs[max_index][0]+0.2, ecdf_pairs[max_index][1])],rgbcolor=\"grey\")\n",
    "    return ecdf"
   ]
  },
  {
   "cell_type": "code",
   "execution_count": null,
   "metadata": {},
   "outputs": [],
   "source": [
    "ecdfPlot(x)\n"
   ]
  },
  {
   "cell_type": "markdown",
   "metadata": {},
   "source": [
    "## Problem 1.1"
   ]
  },
  {
   "cell_type": "markdown",
   "metadata": {},
   "source": [
    "Run the above code cell to have the tools available to plot empirical distributions. Then fill in the code needed to solve the problem in the two functions\n",
    "* `uniform_pseudo_random(n_samples)` to generate a list of length `n_samples` of random numbers in the interval $(0,1)$. You can test your result using the ecdfPlot."
   ]
  },
  {
   "cell_type": "code",
   "execution_count": 1,
   "metadata": {},
   "outputs": [],
   "source": [
    "def uniform_pseudo_random(n_samples):\n",
    "    # Implement a pseudo number generator, you are free to choose any\n",
    "    # as long as you implement it yourself and dont use the packages.\n",
    "    r = np.random.uniform(0, 1, n_samples).tolist()\n",
    "#     urs = [random.random() for i in range(0,n_samples)]\n",
    "    return r # A list of numbers of length n_samples"
   ]
  },
  {
   "cell_type": "markdown",
   "metadata": {},
   "source": [
    "## Problem 1.2"
   ]
  },
  {
   "cell_type": "markdown",
   "metadata": {},
   "source": [
    "After having implemented the above you can use that to produce samples from $F$ in the description of the problem. Again compare the empirical distribution with the true distribution as a sanity check."
   ]
  },
  {
   "cell_type": "code",
   "execution_count": 5,
   "metadata": {},
   "outputs": [],
   "source": [
    "def sampler_problem_1(n_samples):\n",
    "    \n",
    "     urs = uniform_pseudo_random(n_samples)\n",
    "    \n",
    "     return [uniformCDF(np.sin(u), 0,np.pi/2) for u in urs] # A list of numbers of length n_samples\n",
    "\n"
   ]
  },
  {
   "cell_type": "markdown",
   "metadata": {},
   "source": [
    "## Problem 1.3\n",
    "In the below, put the code in to compute an estimate of $E[X]$ using `sampler_problem_1` using $1000$ samples."
   ]
  },
  {
   "cell_type": "code",
   "execution_count": 9,
   "metadata": {},
   "outputs": [
    {
     "data": {
      "text/plain": [
       "[0.29544599044729286]"
      ]
     },
     "execution_count": 9,
     "metadata": {},
     "output_type": "execute_result"
    }
   ],
   "source": [
    "# Replace ??? below with the code necessary for the problem\n",
    "\n",
    "# Since you are going to use the samples again, you can store them in\n",
    "# the samples variable\n",
    "\n",
    "#samples from X~F\n",
    "samples = sampler_problem_1(1000)\n",
    "\n",
    "def u_means(n):\n",
    "    '''Function to give a list of n running means from uniform(theta1, theta2).\n",
    "    \n",
    "    n is the number of running means to generate.\n",
    "    theta1, theta2 are the uniform distribution parameters.\n",
    "    return a list of n running means.'''\n",
    "    \n",
    "    #get the sample size\n",
    "    samplesizes = list(range(1, len(samples)+1,1))\n",
    "    \n",
    "    from pylab import cumsum\n",
    "    csSample = list(cumsum(samples))\n",
    "    samplesizes = range(1, n+1,1)\n",
    "    return [csSample[i]/samplesizes[i] for i in range(n)]\n",
    "\n",
    "\n",
    "# Use the samples variable and compute an estimate of E[X]\n",
    "# In probability, the average value of some random variable X is called the expected value or the expectation.\n",
    "# E_X = [np.mean(s) for s in samples]\n",
    "# E_X = u_means(1000)\n",
    "E_X = [np.mean(samples)]\n",
    "E_X"
   ]
  },
  {
   "cell_type": "markdown",
   "metadata": {},
   "source": [
    "## Problem 1.4\n",
    "As you might have noticed, I like the bootstrap. \n",
    "Now its time for you to produce a bootstrap confidence interval around $E[X]$ above, put the code in the cell below. You are basically free to write whatever code you like to solve the problem, one hint would be to use the code from the lectures, but it needs to be modified to use your sampler from problem 1.1."
   ]
  },
  {
   "cell_type": "markdown",
   "metadata": {},
   "source": [
    "### method one calculating confidence intervals"
   ]
  },
  {
   "cell_type": "code",
   "execution_count": 10,
   "metadata": {},
   "outputs": [
    {
     "name": "stdout",
     "output_type": "stream",
     "text": [
      "0.009076666595640598\n",
      "0.009083534360075501\n"
     ]
    },
    {
     "data": {
      "image/png": "[encoded data removed]",
      "text/plain": [
       "<Figure size 432x288 with 1 Axes>"
      ]
     },
     "metadata": {},
     "output_type": "display_data"
    }
   ],
   "source": [
    "data = uniform_pseudo_random(1000)\n",
    "\n",
    "def bootstrap_replicate_1d(data, func):\n",
    "    \"\"\"Generate bootstrap replicate of 1D data.\"\"\"\n",
    "    #resampled array of the data\n",
    "    bs_sample = np.random.choice(data, len(data))\n",
    "    return func(bs_sample)\n",
    "\n",
    "def draw_bs_reps(data, func, size=1):\n",
    "    \"\"\"Draw bootstrap replicates.\"\"\"\n",
    "    \n",
    "    # Initialize array of replicates: bs_replicates\n",
    "    bs_replicates = np.empty(size)\n",
    "    \n",
    "    # Generate replicates\n",
    "    for i in range(size):\n",
    "        bs_replicates[i] = bootstrap_replicate_1d(data, func)\n",
    "        \n",
    "    return bs_replicates\n",
    "\n",
    "# Take 1000 bootstrap replicates of the mean: bs_replicates\n",
    "bs_replicates = draw_bs_reps(data, np.mean, size=1000)\n",
    "\n",
    "# Compute and print SEM(standard error of the mean)\n",
    "sem = np.std(data) / np.sqrt(len(data))\n",
    "print(sem)\n",
    "\n",
    "# Compute and print standard deviation of bootstrap replicates\n",
    "bs_std = np.std(bs_replicates)\n",
    "print(bs_std)\n",
    "\n",
    "import matplotlib.pyplot as plt\n",
    "# Make a histogram of the results\n",
    "_ = plt.hist(bs_replicates, bins=50, density=True)\n",
    "_ = plt.xlabel('sample mean')\n",
    "_ = plt.ylabel('PDF')"
   ]
  },
  {
   "cell_type": "code",
   "execution_count": 11,
   "metadata": {},
   "outputs": [
    {
     "name": "stdout",
     "output_type": "stream",
     "text": [
      "95% confidence interval = [0.4786266  0.51394861]\n"
     ]
    }
   ],
   "source": [
    "   #If we repeated measurements over and over again, p% of the observed values would lie within the p% confidence interval\n",
    "#     compute 95% confident interval\n",
    "ci =np.percentile(bs_replicates, [2.5, 97.5])\n",
    "\n",
    "# Print the confidence interval\n",
    "print('95% confidence interval =', ci)\n",
    "\n"
   ]
  },
  {
   "cell_type": "markdown",
   "metadata": {},
   "source": [
    "# Problem 2 \n",
    "Let $X_1,\\ldots,X_n \\sim N(\\theta,1)$. Define\n",
    "$$\n",
    "    Y_i = \n",
    "    \\begin{cases}\n",
    "        1, & X_i > 0 \\\\\n",
    "        0, & X_i \\leq 0\n",
    "    \\end{cases}\n",
    "$$\n",
    "Let $\\psi = \\mathbb{P}(Y_1 = 1)$.\n",
    "* Find the maximum likelihood estimator $\\hat \\psi$ of $\\psi$.\n",
    "* Find an appropriate $95\\%$ confidence interval for $\\psi$.\n",
    "* Repeat the above two steps with the variance unknown!"
   ]
  },
  {
   "cell_type": "markdown",
   "metadata": {},
   "source": [
    "## Problem 2.1\n",
    "Compute the maximum likelihood of $\\psi$ and implement the function below"
   ]
  },
  {
   "cell_type": "code",
   "execution_count": 34,
   "metadata": {},
   "outputs": [],
   "source": [
    "\n",
    "from scipy import optimize\n",
    "\n",
    "def gaussian(x, mu, sig):\n",
    "    return 1./(math.sqrt(2.*math.pi)*sig)*np.exp(-np.power((x - mu)/sig, 2.)/2)\n",
    "\n",
    "\n",
    "    \n",
    "def mle_psi_problem_2(data):\n",
    "    # Do whatever you need here to produce the MLE of the data\n",
    "    x = np.array(data)\n",
    "   \n",
    "    \n",
    "    #get loglikelihood\n",
    "    def negloglike(parameters):\n",
    "        mu = parameters[0]\n",
    "        sigma = parameters[1]\n",
    "        #     L     = n/2.0 * np.log(2 * np.pi) + n/2.0 * math.log(sigma **2 ) + 1/(2*sigma**2) * sum([(x_ - mu)**2 for x_ in x ])\n",
    "        term1 = float(1.0/sigma*np.sqrt(2.0*np.pi))\n",
    "        term2 =float(-1.0/(2.0*sigma**2))\n",
    "        negLogLikl = -np.sum(np.log(term1*np.exp(term2*(x - mu)**2)))\n",
    "\n",
    "        return negLogLikl\n",
    " \n",
    "    \n",
    "    parameter_bounding_box=((-100.0,100.0),(0.5,5.0)) # specify the constraints for each parameter - some guess work...\n",
    "    initial_arguments = np.array([0.0, 1.0]) # point in 2D to initialise the minimize algorithm\n",
    "    mle_result = optimize.minimize(negloglike, initial_arguments, bounds=parameter_bounding_box) \n",
    "    # call the minimize method above finally! you need to play a bit to get initial conditions and bounding box ok\n",
    "    \n",
    "    return mle_result\n",
    "\n",
    "\n",
    "\n",
    "\n",
    "# mu =result_Ass3Prob4['x'][0]\n",
    "# sigma =result_Ass3Prob4['x'][1]\n",
    "\n",
    "# def gaussian(x, mu, sig):\n",
    "#     return 1./(math.sqrt(2.*math.pi)*sig)*np.exp(-np.power((x - mu)/sig, 2.)/2)\n",
    "\n",
    "# import matplotlib.pyplot as plt\n",
    "# x = np.arange(1,20, 0.1)\n",
    "# y= gaussian(x, mu, sigma)\n",
    "# plt.plot(x, gaussian(x, mu, sigma), label = 'fit')\n",
    "# plt.plot(x, y, label = 'data')\n",
    "# plt.legend()\n"
   ]
  },
  {
   "cell_type": "markdown",
   "metadata": {},
   "source": [
    "## Problem 2.2\n",
    "Use the below sample data to compute the MLE of $\\psi$ and compute the corresponding $95\\%$ confidence interval for $\\psi$."
   ]
  },
  {
   "cell_type": "code",
   "execution_count": 1,
   "metadata": {},
   "outputs": [],
   "source": [
    "prob2_samples = [ 0.88, -0.75, -0.46, -0.13,  0.96,  0.17,  1.24, -1.03, -1.  , 1.7 ,  0.34,  1.01,  0.75,  0.58,  0.5 , -1.2 , -1.45,  1.59, 1.79, -1.32]"
   ]
  },
  {
   "cell_type": "code",
   "execution_count": 36,
   "metadata": {},
   "outputs": [
    {
     "name": "stdout",
     "output_type": "stream",
     "text": [
      "lower 95CI is: 2.6512541307743156\n",
      "upper 95CI is: 6.941073427180717\n"
     ]
    }
   ],
   "source": [
    "mle_psi = mle_psi_problem_2(prob2_samples)\n",
    "\n",
    "sampleMean = mle_psi['x'][0]\n",
    "sigma = mle_psi['x'][1]\n",
    "\n",
    "# The left edge of the confidence interval\n",
    "n=len(prob2_samples)\n",
    "correction=float(2/(np.sqrt(n)*sampleMean)) # you can also replace RR by float here or you get expressions\n",
    "\n",
    "low_edge_confidence = 1.0/sampleMean - correction\n",
    "# The right edge of the condidence interval\n",
    "high_edge_confidence = 1.0/sampleMean + correction\n",
    "\n",
    "print(f'lower 95CI is: {low_edge_confidence}')\n",
    "print(f'upper 95CI is: {high_edge_confidence}')"
   ]
  },
  {
   "cell_type": "markdown",
   "metadata": {},
   "source": [
    "## Problem 2.3\n",
    "Compute the maximum likelihood of $\\psi$ when the variance is unknown."
   ]
  },
  {
   "cell_type": "code",
   "execution_count": null,
   "metadata": {},
   "outputs": [],
   "source": [
    "def mle_psi_problem_2_uv(data):\n",
    "    # Do whatever you need here to produce the MLE of the data\n",
    "    return XXX #The MLE of psi above"
   ]
  },
  {
   "cell_type": "markdown",
   "metadata": {},
   "source": [
    "Use the samples from the above data to compute the MLE of $\\psi$ and compute the corresponding $95\\%$ confidence interval for $\\psi$."
   ]
  },
  {
   "cell_type": "code",
   "execution_count": null,
   "metadata": {},
   "outputs": [],
   "source": [
    "mle_psi_uv = mle_psi_problem_2_uv(prob2_samples)\n",
    "# The left edge of the confidence interval\n",
    "low_edge_confidence_uv = ??\n",
    "# The right edge of the condidence interval\n",
    "high_edge_confidence_uv = ??"
   ]
  },
  {
   "cell_type": "markdown",
   "metadata": {},
   "source": [
    "# Problem 3 \n",
    "The Gaussian Annulus theorem tells us that the spherical Gaussian distribution in $d$ dimensions concentrates in a spherical shell of radius $\\sqrt{d}$.\n",
    "1. Generate $1000$ samples of a spherical Gaussian for dimensions $d=10,20,...,100$ and for each $d$ estimate\n",
    "$$\n",
    "    P(\\sqrt{d}-1 < |X| < \\sqrt{d}+1)\n",
    "$$\n",
    "show your result as a plot with the $x$ axis being $d$ and the y axis being the probability. Did you get what you expected?\n",
    "2. In the statement of the Gaussian annulus theorem (Theorem 2.9 in the book) there is an unknown constant $c$, based on the above simulation what would your guess for the value $c$ be?\n",
    "3. Generate $1000$ pairs of vectors from a spherical Gaussian for dimensions $d=2$ and $d=20$, $d=200$, $d=2000$ and for each $d$ compute the angle between the pairs, using these angles, produce a histogram of the angles for each $d$. Hint. It is enough use the proper dot-product and `arccos`. What conclusion can you make about the angles as a function of dimension?\n",
    "4. Revisiting step 1, can you, using simulation in the case $d=100$ find $\\beta$ such that\n",
    "$$\n",
    "    P(\\sqrt{d}-\\beta < |x| < \\sqrt{d}+\\beta) \\approx 0.99 ?\n",
    "$$\n",
    "Hint: is it possible to bootstrap?"
   ]
  },
  {
   "cell_type": "markdown",
   "metadata": {},
   "source": [
    "## Problem 3.1\n",
    "Put your code in the box below for part 1."
   ]
  },
  {
   "cell_type": "code",
   "execution_count": 49,
   "metadata": {},
   "outputs": [
    {
     "data": {
      "image/png": "[encoded data removed]",
      "text/plain": [
       "<Figure size 432x288 with 1 Axes>"
      ]
     },
     "metadata": {},
     "output_type": "display_data"
    }
   ],
   "source": [
    "\n",
    "\n",
    "dim =[10,20,30,40,50,60,70,80,90,100]\n",
    "\n",
    "def gen_samples(d,n_samples = 1000):\n",
    "    \n",
    "    dGaussian = np.random.normal(size=(n_samples,d))\n",
    "    dGaussianNorm = np.linalg.norm(dGaussian,axis=1)\n",
    "\n",
    "    return dGaussianNorm\n",
    "\n",
    "\n",
    "\n",
    "    \n",
    "for _ in range(len(dim)):\n",
    "    \n",
    "    for d in dim:\n",
    "        dGaussianNorm = gen_samples(d)\n",
    "        import matplotlib.pyplot as plt\n",
    "        # Make a histogram of the results\n",
    "        _ = plt.hist(dGaussianNorm, bins=50, density=False)\n",
    "        _ = plt.xlabel('d values')\n",
    "        _ = plt.ylabel('Probability')\n",
    "        \n",
    "   \n"
   ]
  },
  {
   "cell_type": "markdown",
   "metadata": {},
   "source": [
    "## Problem 3.2\n",
    "Write the answer and a motivation in the cell below"
   ]
  },
  {
   "cell_type": "code",
   "execution_count": null,
   "metadata": {},
   "outputs": [],
   "source": [
    "# The reason I guess the value of c below is...\n",
    "c = ??"
   ]
  },
  {
   "cell_type": "markdown",
   "metadata": {},
   "source": [
    "## Problem 3.3\n",
    "Put your code in the box below for part 3"
   ]
  },
  {
   "cell_type": "code",
   "execution_count": 22,
   "metadata": {},
   "outputs": [
    {
     "name": "stderr",
     "output_type": "stream",
     "text": [
      "/usr/lib/python3/dist-packages/ipykernel_launcher.py:15: RuntimeWarning: invalid value encountered in arccos\n",
      "  from ipykernel import kernelapp as app\n"
     ]
    },
    {
     "data": {
      "text/plain": [
       "(1000, 2)"
      ]
     },
     "execution_count": 22,
     "metadata": {},
     "output_type": "execute_result"
    }
   ],
   "source": [
    "import numpy as np\n",
    "d =2\n",
    "# XY = np.random.normal(size=(1000,d)) # Spherical Gaussian with unit variance in each coordinate in R^2\n",
    "\n",
    "# XY = XY / np.linalg.norm(XY,axis=1).reshape(-1,1) # Make all vector unit length\n",
    "\n",
    "# r = np.random.uniform(size=(XY.shape[0],1)) # Sample the radii uniformly from [0,1]\n",
    "# uniform_ball = np.sqrt(r)*XY # Consider the correctly scaled radius\n",
    "# uniform_ball\n",
    "\n",
    "\n",
    "u = np.random.normal(size=(1000,d))\n",
    "v = np.random.normal(size=(1000,d))\n",
    "theta = 2 * np.pi * u\n",
    "phi = np.arccos(2*v-1)\n",
    "x   = np.sin(theta)*np.cos(phi)\n",
    "y   = np.sin(theta)*np.sin(phi)\n",
    "z   = np.cos (theta)\n",
    "phi.shape\n"
   ]
  },
  {
   "cell_type": "markdown",
   "metadata": {},
   "source": [
    "## Problem 3.4\n",
    "Put your code below for part 4"
   ]
  },
  {
   "cell_type": "code",
   "execution_count": null,
   "metadata": {},
   "outputs": [],
   "source": [
    "###\n",
    "\n",
    "\n",
    "\n",
    "beta = ??"
   ]
  },
  {
   "cell_type": "markdown",
   "metadata": {},
   "source": [
    "# Problem 4 \n",
    "In the exam assignment, there is a csv file called `digits.csv`.\n",
    "1. Download the file and load it such that the digits are stored in a numpy array and the labels in another. The digits are 8x8 bitmaps so flattened it should be a numpy array of shape 1797x64\n",
    "2. We wish first to perform PCA on this dataset using 2 components. Your task is to first implement PCA using SVD (you can use numpy for that) and then apply it to this dataset.\n",
    "3. Compute the explained variance for the first two components\n",
    "4. Apply a suitable model for predicting the label based on the two pca components.\n",
    "5. What happens if you perform a random projection of the full dataset into $\\mathbb{R}^2$ and then repeat the previous prediction model? Can you explain the result?"
   ]
  },
  {
   "cell_type": "code",
   "execution_count": 58,
   "metadata": {},
   "outputs": [
    {
     "name": "stdout",
     "output_type": "stream",
     "text": [
      "(1797, 64)\n",
      "(1797,)\n"
     ]
    },
    {
     "data": {
      "image/png": "[encoded data removed]",
      "text/plain": [
       "<Figure size 432x288 with 1 Axes>"
      ]
     },
     "metadata": {},
     "output_type": "display_data"
    }
   ],
   "source": [
    "import numpy as np\n",
    "import pandas as pd\n",
    "import matplotlib.pyplot as plt\n",
    "import pylab as plt\n",
    "from scipy.stats import zscore\n",
    "\n",
    "\n",
    "import sklearn\n",
    "from sklearn import decomposition\n",
    "from sklearn.preprocessing import StandardScaler\n",
    "from sklearn.decomposition import PCA\n",
    "from sklearn.linear_model import LogisticRegression\n",
    "\n",
    "\n",
    "# Do all steps in the cell below, I only provided some skeletons but you have to do the rest\n",
    "def load_digits(file_name):\n",
    "    \n",
    "     #read data as csv file\n",
    "    df = pd.read_csv(file_name)\n",
    "    \n",
    "#      labels = np.array(df.columns)\n",
    "    digits =[]\n",
    "    labels= [] #targets\n",
    "    \n",
    "    for index, row in df.iterrows():\n",
    "        digits.append([float(x) for x in row[:-1]])\n",
    "        labels.append(int(row[-1])) \n",
    "       \n",
    "        \n",
    "    return (np.array(digits),np.array(labels)) # Returns a tuple of numpy arrays one has shape 1797x64 and the other has shape (1797,)\n",
    "    \n",
    "#     #initialize\n",
    "\n",
    "X,Y =load_digits('digits.csv')\n",
    "print(X.shape)\n",
    "print(Y.shape)\n",
    "\n",
    "\n",
    "def plot_digit(digit):\n",
    "    # Takes a numpy array of shape (64,) and outputs plots the image as an 8x8 bitmap\n",
    "    assert digit.shape == (64,)\n",
    "    import matplotlib.pyplot as plt\n",
    "    plt.gray()\n",
    "    plt.imshow(digit.reshape(8,8))\n",
    "\n",
    "plot_digit(X[64,:])\n",
    "\n",
    "\n",
    "# perform pca with n=2 components\n",
    "def perform_pca(n=2):\n",
    "    \n",
    "    #scale data based on standardscaler std=1, mean=0\n",
    "    scaler =  StandardScaler().fit(X)\n",
    "    \n",
    "    scaled_data = scaler.transform(X)\n",
    "    \n",
    "    \n",
    "    #perform pca\n",
    "    pca = decomposition.PCA(n_components=n)\n",
    "    digit_pca = pca.fit_transform(scaled_data)\n",
    "    \n",
    "    # get explained variance\n",
    "    e_var = pca.explained_variance_ratio_\n",
    "    #get cumulative variance \n",
    "    cum_var = pca.explained_variance_ratio_.sum()\n",
    "    \n",
    "    print(\"Cumulative Variance \", cum_var)\n",
    "\n",
    "    #compute and retrieve scores\n",
    "    scores = pca.transform(scaled_data)\n",
    "\n",
    "   \n",
    "    scores_df = pd.DataFrame(scores,columns=['PC1','PC2'])\n",
    "\n",
    "    #retrieve loading values\n",
    "    loadings = pca.components_.T\n",
    "    \n",
    "    df_loadings = pd.DataFrame(loadings,columns=['PC1','PC2'])\n",
    "    \n",
    "    \n",
    "    return (df_loadings,scores_df,e_var,cum_var,digit_pca)\n"
   ]
  },
  {
   "cell_type": "code",
   "execution_count": 5,
   "metadata": {},
   "outputs": [
    {
     "name": "stdout",
     "output_type": "stream",
     "text": [
      "Cumulative Variance  0.21594970409620912\n"
     ]
    }
   ],
   "source": [
    "df_loadings, scores_df,var_exp,cum_var,digit_pca = perform_pca(n=2)"
   ]
  },
  {
   "cell_type": "code",
   "execution_count": 6,
   "metadata": {},
   "outputs": [
    {
     "data": {
      "text/html": [
       "<div>\n",
       "<style scoped>\n",
       "    .dataframe tbody tr th:only-of-type {\n",
       "        vertical-align: middle;\n",
       "    }\n",
       "\n",
       "    .dataframe tbody tr th {\n",
       "        vertical-align: top;\n",
       "    }\n",
       "\n",
       "    .dataframe thead th {\n",
       "        text-align: right;\n",
       "    }\n",
       "</style>\n",
       "<table border=\"1\" class=\"dataframe\">\n",
       "  <thead>\n",
       "    <tr style=\"text-align: right;\">\n",
       "      <th></th>\n",
       "      <th>PC1</th>\n",
       "      <th>PC2</th>\n",
       "    </tr>\n",
       "  </thead>\n",
       "  <tbody>\n",
       "    <tr>\n",
       "      <th>0</th>\n",
       "      <td>-7.940910e-18</td>\n",
       "      <td>-4.731556e-18</td>\n",
       "    </tr>\n",
       "    <tr>\n",
       "      <th>1</th>\n",
       "      <td>-1.822341e-01</td>\n",
       "      <td>4.703536e-02</td>\n",
       "    </tr>\n",
       "    <tr>\n",
       "      <th>2</th>\n",
       "      <td>-2.858681e-01</td>\n",
       "      <td>5.957725e-02</td>\n",
       "    </tr>\n",
       "    <tr>\n",
       "      <th>3</th>\n",
       "      <td>-2.203696e-01</td>\n",
       "      <td>-2.079743e-02</td>\n",
       "    </tr>\n",
       "    <tr>\n",
       "      <th>4</th>\n",
       "      <td>2.516996e-02</td>\n",
       "      <td>1.558911e-01</td>\n",
       "    </tr>\n",
       "    <tr>\n",
       "      <th>...</th>\n",
       "      <td>...</td>\n",
       "      <td>...</td>\n",
       "    </tr>\n",
       "    <tr>\n",
       "      <th>59</th>\n",
       "      <td>-1.944491e-01</td>\n",
       "      <td>-9.900647e-03</td>\n",
       "    </tr>\n",
       "    <tr>\n",
       "      <th>60</th>\n",
       "      <td>-1.777358e-02</td>\n",
       "      <td>-2.519383e-01</td>\n",
       "    </tr>\n",
       "    <tr>\n",
       "      <th>61</th>\n",
       "      <td>-1.031979e-01</td>\n",
       "      <td>-2.426287e-01</td>\n",
       "    </tr>\n",
       "    <tr>\n",
       "      <th>62</th>\n",
       "      <td>-1.198107e-01</td>\n",
       "      <td>-1.650902e-01</td>\n",
       "    </tr>\n",
       "    <tr>\n",
       "      <th>63</th>\n",
       "      <td>-7.149378e-02</td>\n",
       "      <td>-7.131804e-02</td>\n",
       "    </tr>\n",
       "  </tbody>\n",
       "</table>\n",
       "<p>64 rows × 2 columns</p>\n",
       "</div>"
      ],
      "text/plain": [
       "             PC1           PC2\n",
       "0  -7.940910e-18 -4.731556e-18\n",
       "1  -1.822341e-01  4.703536e-02\n",
       "2  -2.858681e-01  5.957725e-02\n",
       "3  -2.203696e-01 -2.079743e-02\n",
       "4   2.516996e-02  1.558911e-01\n",
       "..           ...           ...\n",
       "59 -1.944491e-01 -9.900647e-03\n",
       "60 -1.777358e-02 -2.519383e-01\n",
       "61 -1.031979e-01 -2.426287e-01\n",
       "62 -1.198107e-01 -1.650902e-01\n",
       "63 -7.149378e-02 -7.131804e-02\n",
       "\n",
       "[64 rows x 2 columns]"
      ]
     },
     "execution_count": 6,
     "metadata": {},
     "output_type": "execute_result"
    }
   ],
   "source": [
    "df_loadings"
   ]
  },
  {
   "cell_type": "code",
   "execution_count": 7,
   "metadata": {},
   "outputs": [
    {
     "data": {
      "text/plain": [
       "array([0.12033916, 0.09561054])"
      ]
     },
     "execution_count": 7,
     "metadata": {},
     "output_type": "execute_result"
    }
   ],
   "source": [
    "#how much info is compressed in first few components\n",
    "var_exp"
   ]
  },
  {
   "cell_type": "code",
   "execution_count": 8,
   "metadata": {},
   "outputs": [
    {
     "data": {
      "text/plain": [
       "array([0.12 , 0.216])"
      ]
     },
     "execution_count": 8,
     "metadata": {},
     "output_type": "execute_result"
    }
   ],
   "source": [
    "cumulative_var =np.cumsum(np.round(var_exp,decimals=3))\n",
    "cumulative_var"
   ]
  },
  {
   "cell_type": "code",
   "execution_count": 9,
   "metadata": {},
   "outputs": [
    {
     "data": {
      "text/plain": [
       "0.21594970409620912"
      ]
     },
     "execution_count": 9,
     "metadata": {},
     "output_type": "execute_result"
    }
   ],
   "source": [
    "#what %tage of data should i keep\n",
    "cum_var"
   ]
  },
  {
   "cell_type": "code",
   "execution_count": 10,
   "metadata": {},
   "outputs": [
    {
     "data": {
      "text/html": [
       "<div>\n",
       "<style scoped>\n",
       "    .dataframe tbody tr th:only-of-type {\n",
       "        vertical-align: middle;\n",
       "    }\n",
       "\n",
       "    .dataframe tbody tr th {\n",
       "        vertical-align: top;\n",
       "    }\n",
       "\n",
       "    .dataframe thead th {\n",
       "        text-align: right;\n",
       "    }\n",
       "</style>\n",
       "<table border=\"1\" class=\"dataframe\">\n",
       "  <thead>\n",
       "    <tr style=\"text-align: right;\">\n",
       "      <th></th>\n",
       "      <th>PC1</th>\n",
       "      <th>PC2</th>\n",
       "    </tr>\n",
       "  </thead>\n",
       "  <tbody>\n",
       "    <tr>\n",
       "      <th>0</th>\n",
       "      <td>1.914213</td>\n",
       "      <td>-0.954480</td>\n",
       "    </tr>\n",
       "    <tr>\n",
       "      <th>1</th>\n",
       "      <td>0.588981</td>\n",
       "      <td>0.924601</td>\n",
       "    </tr>\n",
       "    <tr>\n",
       "      <th>2</th>\n",
       "      <td>1.302040</td>\n",
       "      <td>-0.317353</td>\n",
       "    </tr>\n",
       "    <tr>\n",
       "      <th>3</th>\n",
       "      <td>-3.020770</td>\n",
       "      <td>-0.868711</td>\n",
       "    </tr>\n",
       "    <tr>\n",
       "      <th>4</th>\n",
       "      <td>4.528947</td>\n",
       "      <td>-1.093349</td>\n",
       "    </tr>\n",
       "    <tr>\n",
       "      <th>...</th>\n",
       "      <td>...</td>\n",
       "      <td>...</td>\n",
       "    </tr>\n",
       "    <tr>\n",
       "      <th>1792</th>\n",
       "      <td>0.104330</td>\n",
       "      <td>0.254997</td>\n",
       "    </tr>\n",
       "    <tr>\n",
       "      <th>1793</th>\n",
       "      <td>2.423235</td>\n",
       "      <td>-1.429632</td>\n",
       "    </tr>\n",
       "    <tr>\n",
       "      <th>1794</th>\n",
       "      <td>1.022598</td>\n",
       "      <td>-0.147991</td>\n",
       "    </tr>\n",
       "    <tr>\n",
       "      <th>1795</th>\n",
       "      <td>1.076055</td>\n",
       "      <td>-0.380921</td>\n",
       "    </tr>\n",
       "    <tr>\n",
       "      <th>1796</th>\n",
       "      <td>-1.257702</td>\n",
       "      <td>-2.227618</td>\n",
       "    </tr>\n",
       "  </tbody>\n",
       "</table>\n",
       "<p>1797 rows × 2 columns</p>\n",
       "</div>"
      ],
      "text/plain": [
       "           PC1       PC2\n",
       "0     1.914213 -0.954480\n",
       "1     0.588981  0.924601\n",
       "2     1.302040 -0.317353\n",
       "3    -3.020770 -0.868711\n",
       "4     4.528947 -1.093349\n",
       "...        ...       ...\n",
       "1792  0.104330  0.254997\n",
       "1793  2.423235 -1.429632\n",
       "1794  1.022598 -0.147991\n",
       "1795  1.076055 -0.380921\n",
       "1796 -1.257702 -2.227618\n",
       "\n",
       "[1797 rows x 2 columns]"
      ]
     },
     "execution_count": 10,
     "metadata": {},
     "output_type": "execute_result"
    }
   ],
   "source": [
    "scores_df"
   ]
  },
  {
   "cell_type": "code",
   "execution_count": null,
   "metadata": {},
   "outputs": [],
   "source": []
  },
  {
   "cell_type": "code",
   "execution_count": 33,
   "metadata": {},
   "outputs": [
    {
     "data": {
      "text/plain": [
       "Text(0, 0.5, 'PC2')"
      ]
     },
     "execution_count": 33,
     "metadata": {},
     "output_type": "execute_result"
    },
    {
     "data": {
      "image/png": "[encoded data removed]",
      "text/plain": [
       "<Figure size 576x432 with 1 Axes>"
      ]
     },
     "metadata": {},
     "output_type": "display_data"
    }
   ],
   "source": [
    "plt.figure(figsize=(8 , 6))\n",
    "plt.scatter(digit_pca[:,0],digit_pca[:,1],c=Y)\n",
    "plt.xlabel('PC1')\n",
    "plt.ylabel('PC2')"
   ]
  },
  {
   "cell_type": "code",
   "execution_count": 34,
   "metadata": {},
   "outputs": [],
   "source": [
    "#build a classifier\n",
    "\n",
    "def knn_distances(xTrain,xTest,k):\n",
    "    \"\"\"\n",
    "    Finds the k nearest neighbors of xTest in xTrain.\n",
    "    Input:\n",
    "    xTrain = n x d matrix. n=rows and d=features\n",
    "    xTest = m x d matrix. m=rows and d=features (same amount of features as xTrain)\n",
    "    k = number of nearest neighbors to be found\n",
    "    Output:\n",
    "    dists = distances between all xTrain and all XTest points. Size of n x m\n",
    "    indices = k x m matrix with the indices of the yTrain labels that represent the point\n",
    "    \"\"\"\n",
    "    #the following formula calculates the Euclidean distances.\n",
    "    import numpy as np\n",
    "    distances = -2 * xTrain@xTest.T + np.sum(xTest**2,axis=1) + np.sum(xTrain**2,axis=1)[:, np.newaxis]\n",
    "    #because of float precision, some small numbers can become negatives. Need to be replace with 0.\n",
    "    distances[distances < 0] = 0\n",
    "    distances = distances**.5\n",
    "    indices = np.argsort(distances, 0) #get indices of sorted items\n",
    "    distances = np.sort(distances,0) #distances sorted in axis 0\n",
    "    #returning the top-k closest distances.\n",
    "    return indices[0:k,:], distances[0:k,:]\n",
    "\n",
    "def knn_predictions(xTrain,yTrain,xTest=None,k=3):\n",
    "    \"\"\"\n",
    "    Uses xTrain and yTrain to predict xTest.\n",
    "    Input:\n",
    "    xTrain = n x d matrix. n=rows and d=features\n",
    "    yTrain = n x 1 array. n=rows with label value\n",
    "    xTest = m x d matrix. m=rows and d=features (same amount of features as xTrain)\n",
    "    k = number of nearest neighbors to be found\n",
    "    Output:\n",
    "    predictions = predicted labels, ie preds(i) is the predicted label of xTest(i,:)\n",
    "    \"\"\"\n",
    "    import numpy as np\n",
    "    if (xTest == None):\n",
    "        xTest = xTrain\n",
    "        \n",
    "    indices, distances = knn_distances(xTrain,xTest,k)\n",
    "    yTrain = yTrain.flatten()\n",
    "    rows, columns = indices.shape\n",
    "    predictions = list()\n",
    "    for j in range(columns):\n",
    "        temp = list()\n",
    "        for i in range(rows):\n",
    "            cell = indices[i][j]\n",
    "            temp.append(yTrain[cell])\n",
    "        predictions.append(max(temp,key=temp.count)) #this is the key function, brings the mode value\n",
    "    predictions=np.array(predictions)\n",
    "    return predictions\n",
    "\n",
    "def score(prediction,true_values):\n",
    "    return np.sum(prediction == true_values)/len(prediction)\n"
   ]
  },
  {
   "cell_type": "code",
   "execution_count": 36,
   "metadata": {},
   "outputs": [
    {
     "data": {
      "text/plain": [
       "0.991652754590985"
      ]
     },
     "execution_count": 36,
     "metadata": {},
     "output_type": "execute_result"
    }
   ],
   "source": [
    "score(knn_predictions(X,Y,k=5),Y)"
   ]
  },
  {
   "cell_type": "code",
   "execution_count": 35,
   "metadata": {},
   "outputs": [
    {
     "name": "stderr",
     "output_type": "stream",
     "text": [
      "/home/gilo/.local/lib/python3.6/site-packages/sklearn/linear_model/_logistic.py:940: ConvergenceWarning: lbfgs failed to converge (status=1):\n",
      "STOP: TOTAL NO. of ITERATIONS REACHED LIMIT.\n",
      "\n",
      "Increase the number of iterations (max_iter) or scale the data as shown in:\n",
      "    https://scikit-learn.org/stable/modules/preprocessing.html\n",
      "Please also refer to the documentation for alternative solver options:\n",
      "    https://scikit-learn.org/stable/modules/linear_model.html#logistic-regression\n",
      "  extra_warning_msg=_LOGISTIC_SOLVER_CONVERGENCE_MSG)\n"
     ]
    },
    {
     "data": {
      "text/plain": [
       "1.0"
      ]
     },
     "execution_count": 35,
     "metadata": {},
     "output_type": "execute_result"
    }
   ],
   "source": [
    "clf = LogisticRegression(random_state=0).fit(X, Y)\n",
    "clf.score(X, Y)"
   ]
  },
  {
   "cell_type": "code",
   "execution_count": null,
   "metadata": {},
   "outputs": [],
   "source": [
    "#Import knearest neighbors Classifier model\n",
    "from sklearn.neighbors import KNeighborsClassifier\n",
    "\n",
    "#Create KNN Classifier\n",
    "knn = KNeighborsClassifier(n_neighbors=7)\n",
    "\n",
    "#Train the model using the training sets\n",
    "knn.fit(X, Y)\n",
    "\n",
    "#Predict the response for test dataset\n",
    "y_pred = knn.predict(X)\n",
    "y_pred"
   ]
  },
  {
   "cell_type": "code",
   "execution_count": null,
   "metadata": {},
   "outputs": [],
   "source": [
    "from sklearn import metrics\n",
    "# Model Accuracy, how often is the classifier correct?\n",
    "print(\"Accuracy:\",metrics.accuracy_score(Y, y_pred))"
   ]
  },
  {
   "cell_type": "markdown",
   "metadata": {},
   "source": [
    " #### Perform PCA with custom method\n"
   ]
  },
  {
   "cell_type": "code",
   "execution_count": 16,
   "metadata": {},
   "outputs": [],
   "source": [
    "#make a projection into R^2\n",
    "class PCAs(object):\n",
    "\n",
    "    def __init__(self,n_components):\n",
    "        self.n_components =  n_components\n",
    "        self.components=None\n",
    "        self.singular_values=None\n",
    "        self.dimension=None\n",
    "        self.mean=None\n",
    "\n",
    "    def fit(self,X):\n",
    "        assert(type(X) == np.ndarray), \"Please input type np.ndarray!\"\n",
    "        assert(len(X.shape) == 2), \"Please input 2d array!\"\n",
    "        assert(min(X.shape[1],X.shape[0]) >= self.n_components), \"min(X.shape[1],X.shape[0]) >= self.n_components!\"\n",
    "        print(\"Number of data_points: %d, number of features: %d, Number of components: %d\" %(X.shape[0],X.shape[1],self.n_components))\n",
    "        \n",
    "        X = self._center(X) # Make sure the data is centered (each feature has empirical mean zero)\n",
    "        self.dimension=X.shape[1] # This is the dimension of the data\n",
    "        self.components,self.singular_values = self._compute(X) # Compute the singular vectors\n",
    "        \n",
    "    def _center(self,X):\n",
    "        self.mean = np.mean(X,axis=0).reshape(1,-1)\n",
    "        return X-self.mean\n",
    "        \n",
    "    def transform(self,X):\n",
    "        if (type(self.components) == None):\n",
    "            raise Exception(\"Not fitted yet!\")\n",
    "        \n",
    "        assert(type(X) == np.ndarray), \"Please input type np.ndarray!\"\n",
    "        assert(len(X.shape) == 2), \"Please input 2d array!\"\n",
    "        assert(X.shape[1] == self.dimension), \"Incorrect number of features!\"\n",
    "        \n",
    "        return (X-self.mean)@self.components\n",
    "    \n",
    "    def inverse_transform(self,X):\n",
    "        if (type(self.components) == None):\n",
    "            raise Exception(\"Not fitted yet!\")\n",
    "        \n",
    "        assert(type(X) == np.ndarray), \"Please input type np.ndarray!\"\n",
    "        assert(len(X.shape) == 2), \"Please input 2d array!\"\n",
    "        assert(X.shape[1] == self.n_components), \"Incorrect number of features!\"\n",
    "        \n",
    "        return X@self.components.T+self.mean\n",
    "    \n",
    "    def project(self,X):\n",
    "        return self.inverse_transform(self.transform(X))\n",
    "        \n",
    "    def _compute(self,X):\n",
    "        U,D,VT = np.linalg.svd(X,full_matrices=False)\n",
    "        return (VT.T)[:,:self.n_components],D"
   ]
  },
  {
   "cell_type": "code",
   "execution_count": 26,
   "metadata": {},
   "outputs": [],
   "source": [
    "pca_digit = PCAs(n_components =2)"
   ]
  },
  {
   "cell_type": "code",
   "execution_count": 27,
   "metadata": {},
   "outputs": [
    {
     "name": "stdout",
     "output_type": "stream",
     "text": [
      "Number of data_points: 1797, number of features: 64, Number of components: 2\n"
     ]
    }
   ],
   "source": [
    "pca_digit.fit(X)"
   ]
  },
  {
   "cell_type": "code",
   "execution_count": 56,
   "metadata": {},
   "outputs": [
    {
     "data": {
      "image/png": "[encoded data removed]",
      "text/plain": [
       "<Figure size 432x288 with 1 Axes>"
      ]
     },
     "metadata": {},
     "output_type": "display_data"
    }
   ],
   "source": [
    "X_projected = pca_digit.project(X)\n",
    "\n",
    "plot_digit(X_projected[64,:])"
   ]
  },
  {
   "cell_type": "code",
   "execution_count": 53,
   "metadata": {},
   "outputs": [
    {
     "data": {
      "text/plain": [
       "array([0.14890594, 0.28509365, 0.40303959, 0.48713938, 0.54496353,\n",
       "       0.59413263, 0.6372925 , 0.67390623, 0.70743871, 0.73822677,\n",
       "       0.76195018, 0.78467714, 0.80289578, 0.82063433, 0.83530534,\n",
       "       0.84940249, 0.86258838, 0.87506976, 0.88524694, 0.89430312,\n",
       "       0.9031985 , 0.91116973, 0.91884467, 0.9260737 , 0.93303259,\n",
       "       0.9389934 , 0.94474955, 0.94990113, 0.95479652, 0.9590854 ,\n",
       "       0.96282146, 0.96635421, 0.96972105, 0.97300135, 0.97608455,\n",
       "       0.97902234, 0.98158823, 0.98386565, 0.98608843, 0.98820273,\n",
       "       0.99010182, 0.99168835, 0.99319995, 0.99460574, 0.99577196,\n",
       "       0.99684689, 0.99781094, 0.99858557, 0.99914278, 0.99954711,\n",
       "       0.99975703, 0.99983951, 0.99989203, 0.99994255, 0.99997555,\n",
       "       0.99998798, 0.99999503, 0.99999804, 0.99999911, 0.99999966,\n",
       "       1.        , 1.        , 1.        , 1.        ])"
      ]
     },
     "execution_count": 53,
     "metadata": {},
     "output_type": "execute_result"
    }
   ],
   "source": [
    "#compute the explained variance\n",
    "#Explained variance is how much percentage of the total variance is captured by our singular vectors. \n",
    "#Remember the interpretation of the singular values as the standard deviation, as such the variance explained of the first  k  components is just the sum of the singular values squared and divided by the total variance.\n",
    "variances = pca_digit.singular_values**2/(X.shape[0]-1)\n",
    "\n",
    "ex_v =np.cumsum(variances/np.sum(variances))\n",
    "ex_v"
   ]
  },
  {
   "cell_type": "code",
   "execution_count": 31,
   "metadata": {},
   "outputs": [],
   "source": [
    "#Import knearest neighbors Classifier model\n",
    "from sklearn.neighbors import KNeighborsClassifier\n",
    "\n",
    "#Create KNN Classifier\n",
    "knn = KNeighborsClassifier(n_neighbors=7)\n",
    "\n",
    "#Train the model using the training sets\n",
    "knn.fit(X_projected, Y)\n",
    "\n",
    "#Predict the response for test dataset\n",
    "y_predict = knn.predict(X_projected)\n"
   ]
  },
  {
   "cell_type": "code",
   "execution_count": 32,
   "metadata": {},
   "outputs": [
    {
     "name": "stdout",
     "output_type": "stream",
     "text": [
      "Accuracy: 0.7206455203116305\n"
     ]
    }
   ],
   "source": [
    "from sklearn import metrics\n",
    "# Model Accuracy, how often is the classifier correct?\n",
    "print(\"Accuracy:\",metrics.accuracy_score(Y, y_predict))"
   ]
  },
  {
   "cell_type": "code",
   "execution_count": 37,
   "metadata": {},
   "outputs": [
    {
     "data": {
      "text/plain": [
       "0.7790762381747357"
      ]
     },
     "execution_count": 37,
     "metadata": {},
     "output_type": "execute_result"
    }
   ],
   "source": [
    "score(knn_predictions(X_projected,Y,k=5),Y)"
   ]
  },
  {
   "cell_type": "code",
   "execution_count": null,
   "metadata": {},
   "outputs": [],
   "source": [
    "#on projection , the accuracy score drops to 77.9% compared to 99% score previously"
   ]
  },
  {
   "cell_type": "code",
   "execution_count": null,
   "metadata": {},
   "outputs": [],
   "source": []
  },
  {
   "cell_type": "code",
   "execution_count": null,
   "metadata": {},
   "outputs": [],
   "source": []
  }
 ],
 "metadata": {
  "kernelspec": {
   "display_name": "Python 3",
   "language": "python",
   "name": "python3"
  },
  "language_info": {
   "codemirror_mode": {
    "name": "ipython",
    "version": 3
   },
   "file_extension": ".py",
   "mimetype": "text/x-python",
   "name": "python",
   "nbconvert_exporter": "python",
   "pygments_lexer": "ipython3",
   "version": "3.6.9"
  }
 },
 "nbformat": 4,
 "nbformat_minor": 2
}
